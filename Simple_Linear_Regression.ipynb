{
  "nbformat": 4,
  "nbformat_minor": 0,
  "metadata": {
    "colab": {
      "name": "Simple Linear Regression.ipynb",
      "provenance": [],
      "authorship_tag": "ABX9TyMb+yOaDC3Een3oQC4Jm1Fy",
      "include_colab_link": true
    },
    "kernelspec": {
      "name": "python3",
      "display_name": "Python 3"
    }
  },
  "cells": [
    {
      "cell_type": "markdown",
      "metadata": {
        "id": "view-in-github",
        "colab_type": "text"
      },
      "source": [
        "<a href=\"https://colab.research.google.com/github/Avhijit-codeboy/Simple-Linear-Regression/blob/master/Simple_Linear_Regression.ipynb\" target=\"_parent\"><img src=\"https://colab.research.google.com/assets/colab-badge.svg\" alt=\"Open In Colab\"/></a>"
      ]
    },
    {
      "cell_type": "code",
      "metadata": {
        "id": "1XMS9K3frYxW",
        "colab_type": "code",
        "colab": {}
      },
      "source": [
        "import pandas as pd\n",
        "data = pd.read_csv('sample_data.csv',index_col=0)\n",
        "x_train = data['Number of Bedrooms'].tolist()\n",
        "y_train = data['Price (in 10000 rupees)'].tolist()"
      ],
      "execution_count": 0,
      "outputs": []
    },
    {
      "cell_type": "code",
      "metadata": {
        "id": "2IKziZKer8DJ",
        "colab_type": "code",
        "colab": {
          "base_uri": "https://localhost:8080/",
          "height": 51
        },
        "outputId": "3a9908d3-0760-4596-c84a-226f8b46ffe0"
      },
      "source": [
        "print(x_train)\n",
        "print(y_train)"
      ],
      "execution_count": 23,
      "outputs": [
        {
          "output_type": "stream",
          "text": [
            "[3, 2, 5, 1]\n",
            "[40, 30, 60, 20]\n"
          ],
          "name": "stdout"
        }
      ]
    },
    {
      "cell_type": "code",
      "metadata": {
        "id": "UAjQ0gZkseYE",
        "colab_type": "code",
        "colab": {}
      },
      "source": [
        "def cost_function(number_bedrooms, price, weight, bias):\n",
        "    observations = len(number_bedrooms)# here number_bedrooms is vector containing the values of number of bedrooms\n",
        "    \t\t\t\t\t\t\t\t   # the length of this vector is equal to the number of observations present\n",
        "    \t\t\t\t\t\t\t\t   # in the dataset\n",
        "    total_error = 0.0\n",
        "    for i in range(observations):\n",
        "    \t#here price is avector containing our actual output values\n",
        "        total_error += (price[i] - (weight*number_bedrooms[i] + bias))**2\n",
        "    return total_error / observations"
      ],
      "execution_count": 0,
      "outputs": []
    },
    {
      "cell_type": "code",
      "metadata": {
        "id": "CSEeBGRSsuxJ",
        "colab_type": "code",
        "colab": {}
      },
      "source": [
        "def update_weights(number_bedrooms, price, weight, bias, learning_rate):\n",
        "    weight_derivative = 0 # partial derivative of the cost function w.r.t weight\n",
        "    bias_derivative = 0 # partial derivative of the cost function w.r.t bias\n",
        "    observations = len(number_bedrooms) # total number of rows in the dataset\n",
        "\n",
        "    for i in range(observations):\n",
        "        # Calculate partial derivatives\n",
        "        # -2x(y - (Wx + B))\n",
        "        weight_derivative += -2*number_bedrooms[i] * (price[i] - (weight*number_bedrooms[i] + bias))\n",
        "\n",
        "        # -2(y - (Wx + B))\n",
        "        bias_derivative += -2*(price[i] - (weight*number_bedrooms[i] + bias))\n",
        "\n",
        "    # We subtract because the derivatives point in direction of steepest ascent in Gradient Descent\n",
        "    weight -= (weight_derivative / observations) * learning_rate\n",
        "    bias -= (bias_derivative / observations) * learning_rate\n",
        "\n",
        "    return weight, bias"
      ],
      "execution_count": 0,
      "outputs": []
    },
    {
      "cell_type": "code",
      "metadata": {
        "id": "cgyQS56_szJf",
        "colab_type": "code",
        "colab": {}
      },
      "source": [
        "def train(number_bedrooms, price, weight, bias, learning_rate, iters):\n",
        "    cost_history = []\n",
        "    weight_history = []\n",
        "    bias_history = []\n",
        "\n",
        "    for i in range(iters):\n",
        "        weight,bias = update_weights(number_bedrooms, price, weight, bias, learning_rate)\n",
        "        weight_history.append(weight)\n",
        "        bias_history.append(bias)\n",
        "\n",
        "        #Calculate cost for debugging purposes\n",
        "        cost = cost_function(number_bedrooms, price, weight, bias)\n",
        "        cost_history.append(cost)\n",
        "\n",
        "    return weight_history, bias_history, cost_history\n"
      ],
      "execution_count": 0,
      "outputs": []
    },
    {
      "cell_type": "code",
      "metadata": {
        "id": "FVb0TudstKeo",
        "colab_type": "code",
        "colab": {}
      },
      "source": [
        "#initializing parameters\n",
        "import numpy as np\n",
        "weight=float(np.random.randint(low=0,high=10,size=1))\n",
        "bias = 10\n",
        "alpha = 0.001"
      ],
      "execution_count": 0,
      "outputs": []
    },
    {
      "cell_type": "code",
      "metadata": {
        "id": "gh8PuPLqtX27",
        "colab_type": "code",
        "colab": {
          "base_uri": "https://localhost:8080/",
          "height": 187
        },
        "outputId": "72f77b82-ee7f-4ba9-ab69-3b30587f074b"
      },
      "source": [
        "weight_history,bias_history,cost_history = train(x_train,y_train,weight,bias,alpha,10)\n",
        "for i in range(len(a)):\n",
        "  print(\"iteration:{} --- weight:{:.2f} --- bias:{:.4f} --- cost:{}\".format(i,weight_history[i],bias_history[i],\n",
        "                                                                            cost_history[i]))"
      ],
      "execution_count": 69,
      "outputs": [
        {
          "output_type": "stream",
          "text": [
            "iteration:0 --- weight:8.04 --- bias:10.0110 --- cost:37.375310249999984\n",
            "iteration:1 --- weight:8.08 --- bias:10.0218 --- cost:35.81840924924779\n",
            "iteration:2 --- weight:8.11 --- bias:10.0323 --- cost:34.32646848354798\n",
            "iteration:3 --- weight:8.15 --- bias:10.0426 --- cost:32.89677745972807\n",
            "iteration:4 --- weight:8.19 --- bias:10.0527 --- cost:31.526738781158322\n",
            "iteration:5 --- weight:8.22 --- bias:10.0626 --- cost:30.213863428747615\n",
            "iteration:6 --- weight:8.26 --- bias:10.0722 --- cost:28.955766238841946\n",
            "iteration:7 --- weight:8.29 --- bias:10.0817 --- cost:27.750161569809844\n",
            "iteration:8 --- weight:8.32 --- bias:10.0909 --- cost:26.594859149441334\n",
            "iteration:9 --- weight:8.36 --- bias:10.0999 --- cost:25.487760095615954\n"
          ],
          "name": "stdout"
        }
      ]
    },
    {
      "cell_type": "code",
      "metadata": {
        "id": "-mhFo6TEzrFX",
        "colab_type": "code",
        "colab": {
          "base_uri": "https://localhost:8080/",
          "height": 51
        },
        "outputId": "ee21b63f-0870-4b0f-b11e-2b1acb120e22"
      },
      "source": [
        "updated_weight = weight_history[len(weight_history)-1]# the last index of our weight_history\n",
        "updated_bias = bias_history[len(bias_history)-1]# the last index of our bias_history\n",
        "print(updated_weight)\n",
        "print(updated_bias)"
      ],
      "execution_count": 72,
      "outputs": [
        {
          "output_type": "stream",
          "text": [
            "8.355057488468875\n",
            "10.099934580672457\n"
          ],
          "name": "stdout"
        }
      ]
    },
    {
      "cell_type": "code",
      "metadata": {
        "id": "itUmZD0o0k8d",
        "colab_type": "code",
        "colab": {
          "base_uri": "https://localhost:8080/",
          "height": 51
        },
        "outputId": "f9030c4f-3889-4353-b61e-f92ca69835f5"
      },
      "source": [
        "# predicting new values\n",
        "def predict_price(number_bedrooms, weight, bias):\n",
        "    return weight*number_bedrooms + bias\n",
        "\n",
        "print(predict_price(5,updated_weight,updated_bias))\n",
        "print(predict_price(7,updated_weight,updated_bias))"
      ],
      "execution_count": 73,
      "outputs": [
        {
          "output_type": "stream",
          "text": [
            "51.87522202301683\n",
            "68.58533699995458\n"
          ],
          "name": "stdout"
        }
      ]
    },
    {
      "cell_type": "code",
      "metadata": {
        "id": "G1MjxgBs6uS3",
        "colab_type": "code",
        "colab": {
          "base_uri": "https://localhost:8080/",
          "height": 265
        },
        "outputId": "e881c223-e954-4274-fb49-4e7078f42633"
      },
      "source": [
        "import matplotlib.pyplot as plt\n",
        "y_predicted = []\n",
        "for i in range(len(x_train)):\n",
        "  y_predicted.append(predict_price(x_train[i],updated_weight,updated_bias))\n",
        "\n",
        "plt.scatter(x_train,y_train,color=\"red\")\n",
        "plt.plot(x_train,y_predicted,color=\"blue\")\n",
        "plt.show()"
      ],
      "execution_count": 77,
      "outputs": [
        {
          "output_type": "display_data",
          "data": {
            "image/png": "[encoded data removed]",
            "text/plain": [
              "<Figure size 432x288 with 1 Axes>"
            ]
          },
          "metadata": {
            "tags": [],
            "needs_background": "light"
          }
        }
      ]
    }
  ]
}